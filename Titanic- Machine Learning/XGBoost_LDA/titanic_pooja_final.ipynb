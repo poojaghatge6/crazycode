{
 "cells": [
  {
   "cell_type": "markdown",
   "metadata": {},
   "source": [
    "## Linear Discriminant Analysis"
   ]
  },
  {
   "cell_type": "code",
   "execution_count": 10,
   "metadata": {},
   "outputs": [
    {
     "name": "stderr",
     "output_type": "stream",
     "text": [
      "C:\\Anaconda3\\lib\\site-packages\\sklearn\\discriminant_analysis.py:387: UserWarning: Variables are collinear.\n",
      "  warnings.warn(\"Variables are collinear.\")\n"
     ]
    }
   ],
   "source": [
    "import numpy as np\n",
    "import pandas as pd\n",
    "\n",
    "dataset= pd.read_csv('train2.csv')\n",
    "X=dataset.iloc[:,:-1].values\n",
    "y=dataset.iloc[:,11].values\n",
    "#from sklearn.preprocessing import Imputer\n",
    "#imputer= Imputer(missing_values='NaN', strategy='most_frequent', axis= 0)\n",
    "#imputer= imputer.fit(X[:,[1,7]])\n",
    "#X[:,[1,7]]= imputer.transform(X[:,[1,7]])\n",
    "\n",
    "#from sklearn.cross_validation import train_test_split\n",
    "#X_train, X_test, y_train, y_test= train_test_split(X, y, test_size=0.2, random_state=0)\n",
    "\n",
    "from sklearn.preprocessing import StandardScaler\n",
    "sc_X= StandardScaler()\n",
    "X=sc_X.fit_transform(X)\n",
    "#X_train=sc_X.fit_transform(X_train)\n",
    "#X_test=sc_X.transform(X_test)\n",
    "\n",
    "from sklearn.discriminant_analysis import LinearDiscriminantAnalysis as LDA\n",
    "lda= LDA(n_components=2)\n",
    "X=lda.fit_transform(X,y)\n",
    "#X_train=lda.fit_transform(X_train,y_train)\n",
    "#X_test=lda.transform(X_test)\n",
    "\n",
    "from sklearn.linear_model import LogisticRegression\n",
    "classifier= LogisticRegression(random_state=0)\n",
    "classifier.fit(X,y)\n",
    "#classifier.fit(X_train,y_train)\n",
    "\n",
    "#y_pred=classifier.predict(X_test)\n",
    "\n",
    "#from sklearn.metrics import confusion_matrix\n",
    "#cm=confusion_matrix(y_test,y_pred)\n",
    "#print(cm)\n",
    "\n",
    "dataset= pd.read_csv('test.csv')\n",
    "X=dataset.iloc[:,:].values\n",
    "X=sc_X.transform(X)\n",
    "X=lda.transform(X)\n",
    "y_pred=classifier.predict(X)\n",
    "y_pred=pd.DataFrame(y_pred)\n",
    "y_pred.to_csv('y_predLDA.csv')\n"
   ]
  },
  {
   "cell_type": "markdown",
   "metadata": {},
   "source": [
    "## Quadratic Discriminant Analysis"
   ]
  },
  {
   "cell_type": "code",
   "execution_count": 30,
   "metadata": {},
   "outputs": [
    {
     "name": "stdout",
     "output_type": "stream",
     "text": [
      "[[110   0]\n",
      " [ 68   1]]\n",
      "[0 0 0 0 0 0 0 0 0 0 0 0 0 0 0 0 0 0 0 0 0 0 0 0 0 0 0 0 0 0 0 0 0 0 0 0 0\n",
      " 0 0 0 0 0 0 0 0 0 0 0 0 0 0 0 0 0 0 0 0 0 0 0 0 0 0 0 0 0 0 0 0 0 0 0 0 0\n",
      " 0 0 0 0 0 0 0 0 0 0 0 0 1 0 0 0 0 0 0 0 0 0 0 0 0 0 0 0 0 0 0 0 0 0 0 0 0\n",
      " 0 0 0 0 0 0 0 0 0 0 0 0 0 0 0 0 0 0 0 0 0 0 0 0 0 0 0 0 0 0 0 0 0 0 0 0 0\n",
      " 0 0 0 0 0 0 0 0 0 0 0 0 0 0 0 0 0 0 0 0 0 0 0 0 0 0 0 0 0 0 0]\n"
     ]
    },
    {
     "name": "stderr",
     "output_type": "stream",
     "text": [
      "C:\\Anaconda3\\lib\\site-packages\\sklearn\\discriminant_analysis.py:695: UserWarning: Variables are collinear\n",
      "  warnings.warn(\"Variables are collinear\")\n"
     ]
    }
   ],
   "source": [
    "import numpy as np\n",
    "import pandas as pd\n",
    "\n",
    "dataset= pd.read_csv('train2.csv')\n",
    "X=dataset.iloc[:,:-1].values\n",
    "y=dataset.iloc[:,11].values\n",
    "#from sklearn.preprocessing import Imputer\n",
    "#imputer= Imputer(missing_values='NaN', strategy='most_frequent', axis= 0)\n",
    "#imputer= imputer.fit(X[:,[1,7]])\n",
    "#X[:,[1,7]]= imputer.transform(X[:,[1,7]])\n",
    "\n",
    "from sklearn.cross_validation import train_test_split\n",
    "X_train, X_test, y_train, y_test= train_test_split(X, y, test_size=0.2, random_state=0)\n",
    "\n",
    "from sklearn.preprocessing import StandardScaler\n",
    "sc_X= StandardScaler()\n",
    "X_train=sc_X.fit_transform(X_train)\n",
    "X_test=sc_X.transform(X_test)\n",
    "\n",
    "from sklearn.discriminant_analysis import QuadraticDiscriminantAnalysis as QDA\n",
    "qda=QDA().fit(X_train,y_train)\n",
    "\n",
    "\n",
    "y_pred=qda.predict(X_test)\n",
    "\n",
    "from sklearn.metrics import confusion_matrix\n",
    "cm=confusion_matrix(y_test,y_pred)\n",
    "print(cm)\n",
    "print(y_pred)\n",
    "\n"
   ]
  },
  {
   "cell_type": "markdown",
   "metadata": {},
   "source": [
    "## XGBoost"
   ]
  },
  {
   "cell_type": "code",
   "execution_count": 8,
   "metadata": {},
   "outputs": [],
   "source": [
    "import numpy as np\n",
    "import pandas as pd\n",
    "\n",
    "dataset= pd.read_csv('train2.csv')\n",
    "X=dataset.iloc[:,:-1].values\n",
    "y=dataset.iloc[:,11].values\n",
    "#from sklearn.preprocessing import Imputer\n",
    "#imputer= Imputer(missing_values='NaN', strategy='most_frequent', axis= 0)\n",
    "#imputer= imputer.fit(X[:,[1,7]])\n",
    "#X[:,[1,7]]= imputer.transform(X[:,[1,7]])\n",
    "\n",
    "#from sklearn.cross_validation import train_test_split\n",
    "#X_train, X_test, y_train, y_test= train_test_split(X, y, test_size=0.2, random_state=0)\n",
    "\n",
    "from sklearn.preprocessing import StandardScaler\n",
    "sc_X= StandardScaler()\n",
    "X=sc_X.fit_transform(X)\n",
    "#X_train=sc_X.fit_transform(X_train)\n",
    "#X_test=sc_X.transform(X_test)\n",
    "\n",
    "from xgboost import XGBClassifier\n",
    "classifier=XGBClassifier().fit(X,y)\n",
    "\n",
    "dataset= pd.read_csv('test.csv')\n",
    "X=dataset.iloc[:,:].values\n",
    "X=sc_X.transform(X)\n",
    "y_pred=classifier.predict(X)\n",
    "y_pred=pd.DataFrame(y_pred)\n",
    "y_pred.to_csv('y_pred_XGBoost2.csv')\n",
    "#y_pred=classifier.predict(X_test)\n",
    "\n",
    "#from sklearn.metrics import confusion_matrix\n",
    "#cm=confusion_matrix(y_test,y_pred)\n",
    "#print(cm)\n",
    "#print(y_pred)\n",
    "\n"
   ]
  }
 ],
 "metadata": {
  "kernelspec": {
   "display_name": "Python 3",
   "language": "python",
   "name": "python3"
  },
  "language_info": {
   "codemirror_mode": {
    "name": "ipython",
    "version": 3
   },
   "file_extension": ".py",
   "mimetype": "text/x-python",
   "name": "python",
   "nbconvert_exporter": "python",
   "pygments_lexer": "ipython3",
   "version": "3.6.1"
  }
 },
 "nbformat": 4,
 "nbformat_minor": 2
}
